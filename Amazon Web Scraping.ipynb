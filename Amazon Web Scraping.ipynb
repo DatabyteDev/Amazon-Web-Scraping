{
 "cells": [
  {
   "cell_type": "code",
   "execution_count": 1,
   "metadata": {},
   "outputs": [],
   "source": [
    "#Importing Libraries\n",
    "\n",
    "from bs4 import BeautifulSoup\n",
    "import requests"
   ]
  },
  {
   "cell_type": "code",
   "execution_count": 7,
   "metadata": {},
   "outputs": [
    {
     "name": "stdout",
     "output_type": "stream",
     "text": [
      "        PlayStation®5 console (slim)       \n"
     ]
    }
   ],
   "source": [
    "url = 'https://www.amazon.com/PlayStation%C2%AE5-console-slim-PlayStation-5/dp/B0CL61F39H/ref=sr_1_1?crid=2WC5P1O0TVG6Q&dib=eyJ2IjoiMSJ9.IBzp2a7hJYOBBKGDpX2BCH1FmQHOhVZcwFryTT9fHZJYJyhCXNNDSoidNpXrY6Ck6oOQbKiHqYGEzoFa86349n1d4o-Pem3TVfB5yOY_DqZQECgWi6t_A-xJ7M3LKKg1L0rK10LzQHQ3wLRjGrB0O5A47nAWhiGUooCAOC1TvN4B7hU1rmu0O1egT2JqMQNotFQxZINJgOg5zn0nkam1tI5BHhMOPY24Q5qEI0nYx9w.xKqIiXUF0pCrcye8zeL3W6zLgwQI-ZfhYBJ4RVP72ck&dib_tag=se&keywords=ps5&qid=1715599152&sprefix=ps5%2Caps%2C492&sr=8-1&th=1'\n",
    "\n",
    "headers = {\n",
    "    \"User-Agent\": \"Mozilla/5.0 (Windows NT 10.0; Win64; x64) AppleWebKit/537.36 (KHTML, like Gecko) Chrome/124.0.0.0 Safari/537.36\",\n",
    "      \"Accept-Encoding\":\"gzip, deflate\",\n",
    "        \"Accept\":\"text/html,application/xhtml+xml,application/xml;q=0.9,*/*;q=0.8\",\n",
    "          \"DNT\":\"1\",\n",
    "          \"Connection\":\"close\",\n",
    "            \"Upgrade-Insecure-Requests\":\"1\"\n",
    "}\n",
    "\n",
    "\n",
    "page = requests.get(url, headers = headers)\n",
    "\n",
    "\n",
    "soup = BeautifulSoup(page.content, 'html.parser')\n",
    "\n",
    "\n",
    "title = soup.find(id='productTitle').get_text()\n",
    "print(title)"
   ]
  },
  {
   "cell_type": "code",
   "execution_count": 9,
   "metadata": {},
   "outputs": [
    {
     "name": "stdout",
     "output_type": "stream",
     "text": [
      "$479.99\n"
     ]
    }
   ],
   "source": [
    "price = soup.select_one('span.a-price').select_one('span.a-offscreen')\n",
    "price = price.text\n",
    "print(price)"
   ]
  },
  {
   "cell_type": "code",
   "execution_count": 10,
   "metadata": {},
   "outputs": [
    {
     "name": "stdout",
     "output_type": "stream",
     "text": [
      "PlayStation®5 console (slim)\n"
     ]
    }
   ],
   "source": [
    "title = title.strip()\n",
    "print(title)"
   ]
  },
  {
   "cell_type": "code",
   "execution_count": 11,
   "metadata": {},
   "outputs": [
    {
     "name": "stdout",
     "output_type": "stream",
     "text": [
      "2024-05-13\n"
     ]
    }
   ],
   "source": [
    "# Creating a Timestamp for the output to track when data was collected\n",
    "\n",
    "import datetime\n",
    "\n",
    "today = datetime.date.today()\n",
    "\n",
    "print(today)"
   ]
  },
  {
   "cell_type": "code",
   "execution_count": 14,
   "metadata": {},
   "outputs": [
    {
     "name": "stdout",
     "output_type": "stream",
     "text": [
      "4.7 out of 5 stars\n"
     ]
    }
   ],
   "source": [
    "rating_element = soup.find('span', {'class': 'a-icon-alt'})\n",
    "rating = rating_element.text\n",
    "print(rating)"
   ]
  },
  {
   "cell_type": "code",
   "execution_count": 16,
   "metadata": {},
   "outputs": [],
   "source": [
    "import csv\n",
    "\n",
    "header = ['Title', 'Price','Date','rating']\n",
    "data = [title, price, today,rating]\n",
    "\n",
    "with open('AmazonDataset.csv', 'w', newline='', encoding='UTF8') as f:\n",
    "    writer = csv.writer(f)\n",
    "    writer.writerow(header)\n",
    "    writer.writerow(data)\n",
    "\n"
   ]
  },
  {
   "cell_type": "code",
   "execution_count": 18,
   "metadata": {},
   "outputs": [
    {
     "name": "stdout",
     "output_type": "stream",
     "text": [
      "                          Title    Price        Date              rating\n",
      "0  PlayStation®5 console (slim)  $479.99  2024-05-13  4.7 out of 5 stars\n",
      "1  PlayStation®5 console (slim)  $479.99  2024-05-13  4.7 out of 5 stars\n"
     ]
    }
   ],
   "source": [
    "import pandas as pd\n",
    "\n",
    "df = pd.read_csv(r\"C:\\Users\\hehe\\Desktop\\AmazonDataset.csv\")\n",
    "\n",
    "print(df)"
   ]
  },
  {
   "cell_type": "code",
   "execution_count": 17,
   "metadata": {},
   "outputs": [],
   "source": [
    "#Appending data to the csv\n",
    "\n",
    "with open('AmazonDataset.csv', 'a+', newline='', encoding='UTF8') as f:\n",
    "    writer = csv.writer(f)\n",
    "    writer.writerow(data)\n"
   ]
  },
  {
   "cell_type": "code",
   "execution_count": 19,
   "metadata": {},
   "outputs": [],
   "source": [
    "#Combining all of the above codes into one function\n",
    "\n",
    "def check_price():\n",
    "    url = 'https://www.amazon.com/PlayStation%C2%AE5-console-slim-PlayStation-5/dp/B0CL61F39H/ref=sr_1_1?crid=2WC5P1O0TVG6Q&dib=eyJ2IjoiMSJ9.IBzp2a7hJYOBBKGDpX2BCH1FmQHOhVZcwFryTT9fHZJYJyhCXNNDSoidNpXrY6Ck6oOQbKiHqYGEzoFa86349n1d4o-Pem3TVfB5yOY_DqZQECgWi6t_A-xJ7M3LKKg1L0rK10LzQHQ3wLRjGrB0O5A47nAWhiGUooCAOC1TvN4B7hU1rmu0O1egT2JqMQNotFQxZINJgOg5zn0nkam1tI5BHhMOPY24Q5qEI0nYx9w.xKqIiXUF0pCrcye8zeL3W6zLgwQI-ZfhYBJ4RVP72ck&dib_tag=se&keywords=ps5&qid=1715599152&sprefix=ps5%2Caps%2C492&sr=8-1&th=1'\n",
    "\n",
    "    headers = {\n",
    "    \"User-Agent\": \"Mozilla/5.0 (Windows NT 10.0; Win64; x64) AppleWebKit/537.36 (KHTML, like Gecko) Chrome/124.0.0.0 Safari/537.36\",\n",
    "      \"Accept-Encoding\":\"gzip, deflate\",\n",
    "        \"Accept\":\"text/html,application/xhtml+xml,application/xml;q=0.9,*/*;q=0.8\",\n",
    "          \"DNT\":\"1\",\n",
    "          \"Connection\":\"close\",\n",
    "            \"Upgrade-Insecure-Requests\":\"1\"\n",
    "}\n",
    "\n",
    "\n",
    "    page = requests.get(url, headers = headers)\n",
    "\n",
    "\n",
    "    soup = BeautifulSoup(page.content, 'html.parser')\n",
    "    soup1 = BeautifulSoup(soup.prettify(), 'html.parser')\n",
    "\n",
    "\n",
    "    title = soup.find(id='productTitle').get_text()\n",
    "    title = title.strip()\n",
    "\n",
    "    price = soup.select_one('span.a-price').select_one('span.a-offscreen')\n",
    "    price = price.text\n",
    "\n",
    "    rating_element = soup.find('span', {'class': 'a-icon-alt'})\n",
    "    rating = rating_element.text\n",
    "\n",
    "    import datetime\n",
    "\n",
    "    today = datetime.date.today()\n",
    "\n",
    "    import csv\n",
    "\n",
    "    header = ['Title', 'Price','Date','rating']\n",
    "    data = [title, price, today,rating]\n",
    "\n",
    "    with open('AmazonDataset.csv', 'a+', newline='', encoding='UTF8') as f:\n",
    "        writer = csv.writer(f)\n",
    "        writer.writerow(data)\n",
    "\n"
   ]
  },
  {
   "cell_type": "code",
   "execution_count": null,
   "metadata": {},
   "outputs": [],
   "source": [
    "# Runs check_price once every 24 hours and inputs data into the CSV file\n",
    "\n",
    "import time\n",
    "\n",
    "while(True):\n",
    "    check_price()\n",
    "    time.sleep(86400)"
   ]
  }
 ],
 "metadata": {
  "kernelspec": {
   "display_name": "base",
   "language": "python",
   "name": "python3"
  },
  "language_info": {
   "codemirror_mode": {
    "name": "ipython",
    "version": 3
   },
   "file_extension": ".py",
   "mimetype": "text/x-python",
   "name": "python",
   "nbconvert_exporter": "python",
   "pygments_lexer": "ipython3",
   "version": "3.11.5"
  }
 },
 "nbformat": 4,
 "nbformat_minor": 2
}
